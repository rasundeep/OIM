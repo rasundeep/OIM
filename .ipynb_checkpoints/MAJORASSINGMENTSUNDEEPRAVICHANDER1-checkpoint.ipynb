{
 "cells": [
  {
   "cell_type": "code",
   "execution_count": 2,
   "id": "57ad20fe-ceef-4c49-a40e-211ab44b635a",
   "metadata": {},
   "outputs": [
    {
     "name": "stderr",
     "output_type": "stream",
     "text": [
      "[nltk_data] Downloading package punkt to\n",
      "[nltk_data]     /Users/sundeepravichander/nltk_data...\n",
      "[nltk_data]   Unzipping tokenizers/punkt.zip.\n",
      "[nltk_data] Downloading package stopwords to\n",
      "[nltk_data]     /Users/sundeepravichander/nltk_data...\n",
      "[nltk_data]   Unzipping corpora/stopwords.zip.\n",
      "[nltk_data] Downloading package vader_lexicon to\n",
      "[nltk_data]     /Users/sundeepravichander/nltk_data...\n"
     ]
    },
    {
     "data": {
      "text/plain": [
       "True"
      ]
     },
     "execution_count": 2,
     "metadata": {},
     "output_type": "execute_result"
    }
   ],
   "source": [
    "import nltk\n",
    "nltk.download('punkt')\n",
    "nltk.download('stopwords')\n",
    "nltk.download('vader_lexicon')\n"
   ]
  },
  {
   "cell_type": "markdown",
   "id": "7e25e34f-e78f-4e16-b904-02e015d15975",
   "metadata": {},
   "source": [
    "Analysis of the two articles\n"
   ]
  },
  {
   "cell_type": "code",
   "execution_count": 6,
   "id": "0f64e7d1-1d10-4ad1-98d0-3f0fc481e59e",
   "metadata": {
    "scrolled": true
   },
   "outputs": [
    {
     "name": "stdout",
     "output_type": "stream",
     "text": [
      "1 / 5Brian FloodEmbattled Harvard University President Claudine Gay hit\n",
      "with more plagiarism charges\n",
      "foxnews.com /media/embattled-harvard-university-president-claudine-gay-hit-more-plagiarism-charges\n",
      "Media\n",
      "Harvard ‘received a complaint outlining over 40 allegations of\n",
      "plagiarism,’ according to the Free Beacon\n",
      " By Brian Flood  Fox News\n",
      "Published December 20, 2023 12:59pm EST\n",
      "Harvard president facing 40 new allegations of plagiarism\n",
      "Fox News' Molly Line reports the latest on the allegations. \n",
      "Embattled Harvard University President Claudine Gay  has been slapped with additional\n",
      "charges of plagiarism. \n",
      "The Washington Free Beacon  reported Harvard \"received a complaint outlining over 40\n",
      "allegations of plagiarism\" against Gay on T uesday , noting a letter was sent to Harvard's\n",
      "research integrity of ficer, Stacey Springs, outlining the claims. \n",
      "\"The document paints a picture of a pattern of misconduct more extensive than has been\n",
      "previously reported and puts the Harvard Corporation, the university's governing body —\n",
      "which said it initiated an ‘independent review’ of Gay's scholarship and issued a statement of\n",
      "support for her leadership — back in the spotlight,\" Free Beacon reporter Aaron Sibarium\n",
      "wrote. \n",
      "HAR VARD BOARD ST ANDS BY EMBA TTLED PRESIDENT CLAUDINE GA Y, ADMITS\n",
      "‘INADEQUA TE CIT ATION’ IN SOME WRITINGS2 / 5\n",
      "Claudine Gay , president of Harvard University , speaks during a House Education and the\n",
      "Workforce Committee hearing in W ashington, D.C., on Dec. 5.  (Haiyun Jiang/Bloomberg via\n",
      "Getty Images)\n",
      "The Free Beacon reported that it \"independently verified the veracity of the new allegations\n",
      "against Gay , as well as the identity of the complainant,\" who is a professor at another\n",
      "university who requested \"anonymity for fear of retaliation.\"\n",
      "Earlier this month, Harvard Corporation, the school’ s highest governing body , announced it\n",
      "would stand by Gay despite intense backlash to controversial comments about antisemitism\n",
      "and accusations of plagiarism, although it admitted a probe found \"instances of inadequate\n",
      "citation\" in her academic writings. \n",
      "The Free Beacon previously reported that in four papers published between 1993 and 2017,\n",
      "including her doctoral dissertation, Gay \"paraphrased or quoted nearly 20 authors —\n",
      "including two of her colleagues in Harvard University’ s department of government — without\n",
      "proper attribution,\" according to an analysis by the investigative news site.\n",
      "The Free Beacon reported it worked with scholars to analyze \"29 potential cases of\n",
      "plagiarism,\" and most believed Gay , a political scientist, had violated Harvard’ s own policies\n",
      "against plagiarism by simply changing a few words at times without proper citation. The\n",
      "Manhattan Institute’ s Christopher Rufo and journalist Christopher Brunet also published\n",
      "instances  of what they said were problematic sections of her Ph.D. dissertation that \"violate\n",
      "Harvard’ s own stated policies on academic integrity .\"3 / 5NAACP LEADER DEFENDS HAR VARD PRESIDENT CLAUDINE GA Y, SAYS CRITICS\n",
      "ARE 'ADV ANCING A WHITE SUPREMACIST AGENDA'\n",
      "NAACP President Derrick Johnson recently defended embattled Harvard President Claudine\n",
      "Gay, claiming \"attacks on her leadership are nothing more than political theatrics advancing\n",
      "a white supremacist agenda.\"  (Getty)\n",
      "According to the Free Beacon, new allegations included \"dozens of additional cases in which\n",
      "Gay quoted or paraphrased authors without proper attribution\" that were submitted to\n",
      "Harvard's research integrity of ficer.\n",
      "\"They range from missing quotation marks around a few phrases or sentences to entire\n",
      "paragraphs lifted verbatim,\" Sibarium wrote. \"The full list of examples spans seven of Gay's\n",
      "publications — two more than previously reported — which comprise almost half of her\n",
      "scholarly output.\"\n",
      "The Free Beacon obtained a copy  of the complaint sent to Harvard's research integrity of ficer\n",
      "that said it was \"impossible\" for the school’ s probe to have reviewed all of the accusations in\n",
      "time to claim Gay didn’t violate Harvard's standards for research.  \n",
      "\"Know that it is impossible that your of fice has already reviewed the entirety of these\n",
      "materials as many examples below have not been previously reported or submitted to\n",
      "Harvard,\" the letter stated. \n",
      "HAR VARD STUDENT SA YS THE DECISION T O KEEP THE PRESIDENT IS 'P ART OF A\n",
      "REALL Y LARGE T OXIC CUL TURE' ON CAMPUS4 / 5Harvard did not immediately respond to a request for comment from Fox News Digital.\n",
      "\"Lurking in the background of the complaint is the question of whether Gay , Harvard's 30th\n",
      "president, will be held to the same standards as the university's own students, dozens of\n",
      "whom are disciplined for plagiarism each year . The school has typically been softer on\n",
      "faculty accused of academic dishonesty , either giving them a symbolic slap on the wrist or\n",
      "dismissing the charges altogether ,\" Sibarium wrote.\n",
      "Video\n",
      "Fox News’ David Rutz contributed to this report. \n",
      "CLICK HERE T O GET THE FOX NEWS APP\n",
      "Brian Flood is a media editor/reporter for FOX News Digital. Story tips can be sent\n",
      "to brian.flood@fox.com  and on T witter: @briansflood. \n",
      "More From Fox News\n",
      "Get all the stories you need-to-know from the most powerful name in news delivered first\n",
      "thing every morning to your inbox\n",
      "Arrives Weekdays\n",
      "Subscribe\n",
      "Promoted5 / 5\n",
      "2023-24 NFL playof f odds: Every team's odds to make the postseason\n",
      " \n",
      " \n"
     ]
    }
   ],
   "source": [
    "from PyPDF2 import PdfReader\n",
    "pdf_path=\"/Users/sundeepravichander/OIM_7502_classwork/foxnews.com-Embattled Harvard University President Claudine Gay hit with more plagiarism charges.pdf\"\n",
    "# Create a PDF reader object\n",
    "reader = PdfReader(pdf_path)\n",
    "\n",
    "# Extracts text from all pages\n",
    "text = \"\"\n",
    "for page in reader.pages:\n",
    "    text += page.extract_text()\n",
    "\n",
    "# Display a snippet to confirm\n",
    "print(text[:10000000])  # prints first 1000 characters"
   ]
  },
  {
   "cell_type": "markdown",
   "id": "59b058bb-a1bf-4539-b7c9-323ece59f657",
   "metadata": {},
   "source": [
    "it introduces white spaces at times. \n",
    "It splits words into random chunks eg: HAR VARD STUDENT SA YS THE DECISION T O KEEP THE PRESIDENT IS 'P ART OF A\n",
    "REALL Y LARGE T OXIC CUL TURE' ON CAMPUS4. It jumbles the sentences at times. And gets the order wrong. There is no spacing between paragrpahs.\n",
    "\n"
   ]
  },
  {
   "cell_type": "code",
   "execution_count": 8,
   "id": "1ddcf134-b54b-4ee5-be9e-a4e4cf297c12",
   "metadata": {},
   "outputs": [
    {
     "name": "stdout",
     "output_type": "stream",
     "text": [
      "Article 1 (document-level): {'neg': 0.065, 'neu': 0.866, 'pos': 0.07, 'compound': 0.7243}\n"
     ]
    }
   ],
   "source": [
    "from nltk.sentiment import SentimentIntensityAnalyzer\n",
    "from nltk.tokenize import sent_tokenize\n",
    "\n",
    "sia = SentimentIntensityAnalyzer()\n",
    "scores_doc_1 = sia.polarity_scores(text)\n",
    "#scores_doc_2 = sia.polarity_scores(clean_text_2)\n",
    "\n",
    "print(\"Article 1 (document-level):\", scores_doc_1)\n",
    "#print(\"Article 2 (document-level):\", scores_doc_2)\n",
    "\n",
    "\n"
   ]
  },
  {
   "cell_type": "code",
   "execution_count": 10,
   "id": "8bee3a0d-f23c-4d0c-9568-aae408e1c92f",
   "metadata": {},
   "outputs": [
    {
     "name": "stdout",
     "output_type": "stream",
     "text": [
      "Headline 1: {'neg': 0.065, 'neu': 0.866, 'pos': 0.07, 'compound': 0.7243}\n"
     ]
    }
   ],
   "source": [
    "h1 = sia.polarity_scores(text)\n",
    "#h2 = sia.polarity_scores(headline_2)\n",
    "\n",
    "print(\"Headline 1:\", h1)\n",
    "#print(\"Headline 2:\", h2)\n"
   ]
  }
 ],
 "metadata": {
  "kernelspec": {
   "display_name": "Python [conda env:base] *",
   "language": "python",
   "name": "conda-base-py"
  },
  "language_info": {
   "codemirror_mode": {
    "name": "ipython",
    "version": 3
   },
   "file_extension": ".py",
   "mimetype": "text/x-python",
   "name": "python",
   "nbconvert_exporter": "python",
   "pygments_lexer": "ipython3",
   "version": "3.12.7"
  }
 },
 "nbformat": 4,
 "nbformat_minor": 5
}
